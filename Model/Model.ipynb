{
 "cells": [
  {
   "cell_type": "markdown",
   "id": "87faa290",
   "metadata": {
    "papermill": {
     "duration": 0.006658,
     "end_time": "2024-06-17T10:01:19.441141",
     "exception": false,
     "start_time": "2024-06-17T10:01:19.434483",
     "status": "completed"
    },
    "tags": []
   },
   "source": [
    "# Creació de models"
   ]
  },
  {
   "cell_type": "code",
   "execution_count": 1,
   "id": "d214e7a2",
   "metadata": {
    "execution": {
     "iopub.execute_input": "2024-06-17T10:01:19.455198Z",
     "iopub.status.busy": "2024-06-17T10:01:19.454747Z",
     "iopub.status.idle": "2024-06-17T10:01:36.928509Z",
     "shell.execute_reply": "2024-06-17T10:01:36.927223Z"
    },
    "papermill": {
     "duration": 17.483487,
     "end_time": "2024-06-17T10:01:36.930798",
     "exception": false,
     "start_time": "2024-06-17T10:01:19.447311",
     "status": "completed"
    },
    "tags": []
   },
   "outputs": [
    {
     "name": "stdout",
     "output_type": "stream",
     "text": [
      "Collecting scikeras\r\n",
      "  Downloading scikeras-0.13.0-py3-none-any.whl.metadata (3.1 kB)\r\n",
      "Requirement already satisfied: keras>=3.2.0 in /opt/conda/lib/python3.10/site-packages (from scikeras) (3.3.3)\r\n",
      "Collecting scikit-learn>=1.4.2 (from scikeras)\r\n",
      "  Downloading scikit_learn-1.5.0-cp310-cp310-manylinux_2_17_x86_64.manylinux2014_x86_64.whl.metadata (11 kB)\r\n",
      "Requirement already satisfied: absl-py in /opt/conda/lib/python3.10/site-packages (from keras>=3.2.0->scikeras) (1.4.0)\r\n",
      "Requirement already satisfied: numpy in /opt/conda/lib/python3.10/site-packages (from keras>=3.2.0->scikeras) (1.26.4)\r\n",
      "Requirement already satisfied: rich in /opt/conda/lib/python3.10/site-packages (from keras>=3.2.0->scikeras) (13.7.0)\r\n",
      "Requirement already satisfied: namex in /opt/conda/lib/python3.10/site-packages (from keras>=3.2.0->scikeras) (0.0.8)\r\n",
      "Requirement already satisfied: h5py in /opt/conda/lib/python3.10/site-packages (from keras>=3.2.0->scikeras) (3.10.0)\r\n",
      "Requirement already satisfied: optree in /opt/conda/lib/python3.10/site-packages (from keras>=3.2.0->scikeras) (0.11.0)\r\n",
      "Requirement already satisfied: ml-dtypes in /opt/conda/lib/python3.10/site-packages (from keras>=3.2.0->scikeras) (0.2.0)\r\n",
      "Requirement already satisfied: scipy>=1.6.0 in /opt/conda/lib/python3.10/site-packages (from scikit-learn>=1.4.2->scikeras) (1.11.4)\r\n",
      "Requirement already satisfied: joblib>=1.2.0 in /opt/conda/lib/python3.10/site-packages (from scikit-learn>=1.4.2->scikeras) (1.4.2)\r\n",
      "Requirement already satisfied: threadpoolctl>=3.1.0 in /opt/conda/lib/python3.10/site-packages (from scikit-learn>=1.4.2->scikeras) (3.2.0)\r\n",
      "Requirement already satisfied: typing-extensions>=4.0.0 in /opt/conda/lib/python3.10/site-packages (from optree->keras>=3.2.0->scikeras) (4.9.0)\r\n",
      "Requirement already satisfied: markdown-it-py>=2.2.0 in /opt/conda/lib/python3.10/site-packages (from rich->keras>=3.2.0->scikeras) (3.0.0)\r\n",
      "Requirement already satisfied: pygments<3.0.0,>=2.13.0 in /opt/conda/lib/python3.10/site-packages (from rich->keras>=3.2.0->scikeras) (2.17.2)\r\n",
      "Requirement already satisfied: mdurl~=0.1 in /opt/conda/lib/python3.10/site-packages (from markdown-it-py>=2.2.0->rich->keras>=3.2.0->scikeras) (0.1.2)\r\n",
      "Downloading scikeras-0.13.0-py3-none-any.whl (26 kB)\r\n",
      "Downloading scikit_learn-1.5.0-cp310-cp310-manylinux_2_17_x86_64.manylinux2014_x86_64.whl (13.3 MB)\r\n",
      "\u001b[2K   \u001b[90m━━━━━━━━━━━━━━━━━━━━━━━━━━━━━━━━━━━━━━━━\u001b[0m \u001b[32m13.3/13.3 MB\u001b[0m \u001b[31m88.2 MB/s\u001b[0m eta \u001b[36m0:00:00\u001b[0m\r\n",
      "\u001b[?25hInstalling collected packages: scikit-learn, scikeras\r\n",
      "  Attempting uninstall: scikit-learn\r\n",
      "    Found existing installation: scikit-learn 1.2.2\r\n",
      "    Uninstalling scikit-learn-1.2.2:\r\n",
      "      Successfully uninstalled scikit-learn-1.2.2\r\n",
      "\u001b[31mERROR: pip's dependency resolver does not currently take into account all the packages that are installed. This behaviour is the source of the following dependency conflicts.\r\n",
      "spopt 0.6.0 requires shapely>=2.0.1, but you have shapely 1.8.5.post1 which is incompatible.\u001b[0m\u001b[31m\r\n",
      "\u001b[0mSuccessfully installed scikeras-0.13.0 scikit-learn-1.5.0\r\n",
      "Note: you may need to restart the kernel to use updated packages.\n"
     ]
    }
   ],
   "source": [
    "pip install scikeras"
   ]
  },
  {
   "cell_type": "code",
   "execution_count": 2,
   "id": "21f7ba33",
   "metadata": {
    "execution": {
     "iopub.execute_input": "2024-06-17T10:01:36.948610Z",
     "iopub.status.busy": "2024-06-17T10:01:36.947733Z",
     "iopub.status.idle": "2024-06-17T10:01:50.426749Z",
     "shell.execute_reply": "2024-06-17T10:01:50.425961Z"
    },
    "papermill": {
     "duration": 13.490344,
     "end_time": "2024-06-17T10:01:50.429098",
     "exception": false,
     "start_time": "2024-06-17T10:01:36.938754",
     "status": "completed"
    },
    "tags": []
   },
   "outputs": [
    {
     "name": "stderr",
     "output_type": "stream",
     "text": [
      "2024-06-17 10:01:40.752679: E external/local_xla/xla/stream_executor/cuda/cuda_dnn.cc:9261] Unable to register cuDNN factory: Attempting to register factory for plugin cuDNN when one has already been registered\n",
      "2024-06-17 10:01:40.752777: E external/local_xla/xla/stream_executor/cuda/cuda_fft.cc:607] Unable to register cuFFT factory: Attempting to register factory for plugin cuFFT when one has already been registered\n",
      "2024-06-17 10:01:40.875954: E external/local_xla/xla/stream_executor/cuda/cuda_blas.cc:1515] Unable to register cuBLAS factory: Attempting to register factory for plugin cuBLAS when one has already been registered\n"
     ]
    }
   ],
   "source": [
    "import pandas as pd\n",
    "import numpy as np\n",
    "from datetime import datetime\n",
    "from sklearn.preprocessing import OneHotEncoder, minmax_scale\n",
    "from sklearn.model_selection import train_test_split\n",
    "from sklearn.linear_model import LinearRegression\n",
    "from sklearn.metrics import mean_squared_error, mean_absolute_error, r2_score,mean_absolute_percentage_error\n",
    "import matplotlib.pyplot as plt\n",
    "\n",
    "import warnings\n",
    "\n",
    "warnings.filterwarnings('ignore', category=FutureWarning)\n",
    "\n",
    "import tensorflow as tf\n",
    "from tensorflow.keras.models import Sequential, Model\n",
    "from tensorflow.keras.layers import Input, Dense, LSTM, concatenate, Lambda\n",
    "from tensorflow.keras.optimizers import RMSprop, Adam\n",
    "from tensorflow.keras.callbacks import EarlyStopping,ReduceLROnPlateau, ModelCheckpoint\n",
    "from sklearn.model_selection import TimeSeriesSplit, GridSearchCV\n",
    "from scikeras.wrappers import  KerasRegressor"
   ]
  },
  {
   "cell_type": "code",
   "execution_count": 3,
   "id": "6b08858c",
   "metadata": {
    "execution": {
     "iopub.execute_input": "2024-06-17T10:01:50.446108Z",
     "iopub.status.busy": "2024-06-17T10:01:50.445252Z",
     "iopub.status.idle": "2024-06-17T10:01:51.047723Z",
     "shell.execute_reply": "2024-06-17T10:01:51.046782Z"
    },
    "papermill": {
     "duration": 0.613082,
     "end_time": "2024-06-17T10:01:51.050030",
     "exception": false,
     "start_time": "2024-06-17T10:01:50.436948",
     "status": "completed"
    },
    "tags": []
   },
   "outputs": [],
   "source": [
    "data_dir = \"/kaggle/input/co2-rnn/\"\n",
    "\n",
    "X = np.load(data_dir + 'X.npy', allow_pickle=True)\n",
    "y = np.load(data_dir + 'y.npy', allow_pickle=True)\n",
    "\n",
    "metadata = pd.read_csv(data_dir + 'metadata.csv')\n",
    "metadata[\"date_time\"] = pd.to_datetime(metadata[\"date_time\"])"
   ]
  },
  {
   "cell_type": "code",
   "execution_count": 4,
   "id": "093676c6",
   "metadata": {
    "execution": {
     "iopub.execute_input": "2024-06-17T10:01:51.066432Z",
     "iopub.status.busy": "2024-06-17T10:01:51.066136Z",
     "iopub.status.idle": "2024-06-17T10:01:51.072216Z",
     "shell.execute_reply": "2024-06-17T10:01:51.071498Z"
    },
    "papermill": {
     "duration": 0.016327,
     "end_time": "2024-06-17T10:01:51.074022",
     "exception": false,
     "start_time": "2024-06-17T10:01:51.057695",
     "status": "completed"
    },
    "tags": []
   },
   "outputs": [],
   "source": [
    "# Split train/test\n",
    "test_size = 0.15\n",
    "test_index = int(len(X) * (1 - test_size))\n",
    "\n",
    "X_train, X_test = X[:test_index], X[test_index:]\n",
    "y_train, y_test = y[:test_index], y[test_index:]\n",
    "metadata_train, metadata_test = metadata.iloc[:test_index], metadata.iloc[test_index:].reset_index(drop=True)\n",
    "    "
   ]
  },
  {
   "cell_type": "code",
   "execution_count": 5,
   "id": "f1b1c35e",
   "metadata": {
    "execution": {
     "iopub.execute_input": "2024-06-17T10:01:51.089692Z",
     "iopub.status.busy": "2024-06-17T10:01:51.089424Z",
     "iopub.status.idle": "2024-06-17T10:01:51.094875Z",
     "shell.execute_reply": "2024-06-17T10:01:51.093972Z"
    },
    "papermill": {
     "duration": 0.01541,
     "end_time": "2024-06-17T10:01:51.096737",
     "exception": false,
     "start_time": "2024-06-17T10:01:51.081327",
     "status": "completed"
    },
    "tags": []
   },
   "outputs": [
    {
     "name": "stdout",
     "output_type": "stream",
     "text": [
      "Dimensió X_dynamic_train:  (65234, 7, 13)\n",
      "Dimensió y_train:  (65234,)\n",
      "Dimensió metadata_train:  (65234, 4)\n",
      "\n",
      "Dimensió X_dynamic_test:  (11512, 7, 13)\n",
      "Dimensió y_test:  (11512,)\n",
      "Dimensió metadata_test:  (11512, 4)\n"
     ]
    }
   ],
   "source": [
    "print(\"Dimensió X_dynamic_train: \", X_train.shape)\n",
    "print(\"Dimensió y_train: \", y_train.shape)\n",
    "print(\"Dimensió metadata_train: \", metadata_train.shape)\n",
    "\n",
    "print(\"\\nDimensió X_dynamic_test: \", X_test.shape)\n",
    "print(\"Dimensió y_test: \", y_test.shape)\n",
    "print(\"Dimensió metadata_test: \", metadata_test.shape)"
   ]
  },
  {
   "cell_type": "markdown",
   "id": "6e9cb3f2",
   "metadata": {
    "papermill": {
     "duration": 0.007281,
     "end_time": "2024-06-17T10:01:51.111844",
     "exception": false,
     "start_time": "2024-06-17T10:01:51.104563",
     "status": "completed"
    },
    "tags": []
   },
   "source": [
    "# El model més simple\n",
    "Per tenir un punt de partida establim el model més simple corresponen a predir totes les dades"
   ]
  },
  {
   "cell_type": "code",
   "execution_count": 6,
   "id": "7bc87860",
   "metadata": {
    "execution": {
     "iopub.execute_input": "2024-06-17T10:01:51.127873Z",
     "iopub.status.busy": "2024-06-17T10:01:51.127544Z",
     "iopub.status.idle": "2024-06-17T10:01:51.155139Z",
     "shell.execute_reply": "2024-06-17T10:01:51.154292Z"
    },
    "papermill": {
     "duration": 0.03781,
     "end_time": "2024-06-17T10:01:51.157043",
     "exception": false,
     "start_time": "2024-06-17T10:01:51.119233",
     "status": "completed"
    },
    "tags": []
   },
   "outputs": [
    {
     "data": {
      "text/html": [
       "<div>\n",
       "<style scoped>\n",
       "    .dataframe tbody tr th:only-of-type {\n",
       "        vertical-align: middle;\n",
       "    }\n",
       "\n",
       "    .dataframe tbody tr th {\n",
       "        vertical-align: top;\n",
       "    }\n",
       "\n",
       "    .dataframe thead th {\n",
       "        text-align: right;\n",
       "    }\n",
       "</style>\n",
       "<table border=\"1\" class=\"dataframe\">\n",
       "  <thead>\n",
       "    <tr style=\"text-align: right;\">\n",
       "      <th></th>\n",
       "      <th>MAE</th>\n",
       "      <th>MSE</th>\n",
       "      <th>R²</th>\n",
       "      <th>MAPE (%)</th>\n",
       "    </tr>\n",
       "  </thead>\n",
       "  <tbody>\n",
       "    <tr>\n",
       "      <th>entrenament</th>\n",
       "      <td>0.036854</td>\n",
       "      <td>0.004596</td>\n",
       "      <td>0.000000</td>\n",
       "      <td>0.372516</td>\n",
       "    </tr>\n",
       "    <tr>\n",
       "      <th>test</th>\n",
       "      <td>0.029510</td>\n",
       "      <td>0.001656</td>\n",
       "      <td>-0.109818</td>\n",
       "      <td>0.343591</td>\n",
       "    </tr>\n",
       "  </tbody>\n",
       "</table>\n",
       "</div>"
      ],
      "text/plain": [
       "                  MAE       MSE        R²  MAPE (%)\n",
       "entrenament  0.036854  0.004596  0.000000  0.372516\n",
       "test         0.029510  0.001656 -0.109818  0.343591"
      ]
     },
     "metadata": {},
     "output_type": "display_data"
    }
   ],
   "source": [
    "y_train_mean = np.mean(y_train)\n",
    "\n",
    "y_train_pred = np.full_like(y_train, y_train_mean)\n",
    "y_test_pred = np.full_like(y_test, y_train_mean)\n",
    "\n",
    "# Calcular metriques\n",
    "metrics_df = pd.DataFrame(data={\n",
    "    'MAE'     : [mean_absolute_error(y_train, y_train_pred), mean_absolute_error(y_test, y_test_pred)],\n",
    "    'MSE'     : [mean_squared_error(y_train, y_train_pred), mean_squared_error(y_test, y_test_pred)],    \n",
    "    'R²'      : [r2_score(y_train, y_train_pred), r2_score(y_test, y_test_pred)],\n",
    "    'MAPE (%)': [mean_absolute_percentage_error(y_train, y_train_pred), mean_absolute_percentage_error(y_test, y_test_pred)]\n",
    "}, index=[\"entrenament\", \"test\"])\n",
    "\n",
    "# Mostrar-les\n",
    "display(metrics_df)"
   ]
  },
  {
   "cell_type": "markdown",
   "id": "d0c1490f",
   "metadata": {
    "papermill": {
     "duration": 0.00737,
     "end_time": "2024-06-17T10:01:51.172135",
     "exception": false,
     "start_time": "2024-06-17T10:01:51.164765",
     "status": "completed"
    },
    "tags": []
   },
   "source": [
    "# Model lineal\n",
    "Axafem les dades dinamiques i concatenar les dades estatiques d'una instancia per tenirla en fromat d'un unic array per instancia, entrenem un model lineal amb les dades d'entrenament i observem els resultats sobre validació i test."
   ]
  },
  {
   "cell_type": "code",
   "execution_count": 7,
   "id": "7c7ffcfd",
   "metadata": {
    "execution": {
     "iopub.execute_input": "2024-06-17T10:01:51.189267Z",
     "iopub.status.busy": "2024-06-17T10:01:51.188987Z",
     "iopub.status.idle": "2024-06-17T10:01:51.193581Z",
     "shell.execute_reply": "2024-06-17T10:01:51.192758Z"
    },
    "papermill": {
     "duration": 0.014881,
     "end_time": "2024-06-17T10:01:51.195471",
     "exception": false,
     "start_time": "2024-06-17T10:01:51.180590",
     "status": "completed"
    },
    "tags": []
   },
   "outputs": [],
   "source": [
    "# aplanar dades i junta les dades statiques i dinamiques en un sol vector\n",
    "def flater_concater (X):\n",
    "    X_flat = []\n",
    "    for array in X:\n",
    "        X_flat.append(np.ravel(array)[:-7])\n",
    "     \n",
    "    return np.array(X_flat)"
   ]
  },
  {
   "cell_type": "code",
   "execution_count": 8,
   "id": "313c7d8d",
   "metadata": {
    "execution": {
     "iopub.execute_input": "2024-06-17T10:01:51.211828Z",
     "iopub.status.busy": "2024-06-17T10:01:51.211346Z",
     "iopub.status.idle": "2024-06-17T10:01:51.420617Z",
     "shell.execute_reply": "2024-06-17T10:01:51.419840Z"
    },
    "papermill": {
     "duration": 0.219865,
     "end_time": "2024-06-17T10:01:51.422913",
     "exception": false,
     "start_time": "2024-06-17T10:01:51.203048",
     "status": "completed"
    },
    "tags": []
   },
   "outputs": [],
   "source": [
    "X_train_flat = flater_concater(X_train)\n",
    "X_test_flat = flater_concater(X_test)"
   ]
  },
  {
   "cell_type": "code",
   "execution_count": 9,
   "id": "51a6f4e0",
   "metadata": {
    "execution": {
     "iopub.execute_input": "2024-06-17T10:01:51.439847Z",
     "iopub.status.busy": "2024-06-17T10:01:51.439520Z",
     "iopub.status.idle": "2024-06-17T10:01:51.745224Z",
     "shell.execute_reply": "2024-06-17T10:01:51.744149Z"
    },
    "papermill": {
     "duration": 0.317486,
     "end_time": "2024-06-17T10:01:51.748459",
     "exception": false,
     "start_time": "2024-06-17T10:01:51.430973",
     "status": "completed"
    },
    "tags": []
   },
   "outputs": [
    {
     "data": {
      "text/html": [
       "<div>\n",
       "<style scoped>\n",
       "    .dataframe tbody tr th:only-of-type {\n",
       "        vertical-align: middle;\n",
       "    }\n",
       "\n",
       "    .dataframe tbody tr th {\n",
       "        vertical-align: top;\n",
       "    }\n",
       "\n",
       "    .dataframe thead th {\n",
       "        text-align: right;\n",
       "    }\n",
       "</style>\n",
       "<table border=\"1\" class=\"dataframe\">\n",
       "  <thead>\n",
       "    <tr style=\"text-align: right;\">\n",
       "      <th></th>\n",
       "      <th>MAE</th>\n",
       "      <th>MSE</th>\n",
       "      <th>R²</th>\n",
       "      <th>MAPE (%)</th>\n",
       "    </tr>\n",
       "  </thead>\n",
       "  <tbody>\n",
       "    <tr>\n",
       "      <th>entrenament</th>\n",
       "      <td>0.005366</td>\n",
       "      <td>0.000195</td>\n",
       "      <td>0.957530</td>\n",
       "      <td>0.044199</td>\n",
       "    </tr>\n",
       "    <tr>\n",
       "      <th>test</th>\n",
       "      <td>0.004409</td>\n",
       "      <td>0.000131</td>\n",
       "      <td>0.912267</td>\n",
       "      <td>0.040983</td>\n",
       "    </tr>\n",
       "  </tbody>\n",
       "</table>\n",
       "</div>"
      ],
      "text/plain": [
       "                  MAE       MSE        R²  MAPE (%)\n",
       "entrenament  0.005366  0.000195  0.957530  0.044199\n",
       "test         0.004409  0.000131  0.912267  0.040983"
      ]
     },
     "metadata": {},
     "output_type": "display_data"
    }
   ],
   "source": [
    "# Model regresió lineal\n",
    "model = LinearRegression()\n",
    "\n",
    "model.fit(X_train_flat, y_train)\n",
    "\n",
    "y_train_pred = model.predict(X_train_flat)\n",
    "y_test_pred = model.predict(X_test_flat)\n",
    "\n",
    "# Calcular metriques\n",
    "metrics_df = pd.DataFrame(data={\n",
    "    'MAE'     : [mean_absolute_error(y_train, y_train_pred), mean_absolute_error(y_test, y_test_pred)],\n",
    "    'MSE'     : [mean_squared_error(y_train, y_train_pred), mean_squared_error(y_test, y_test_pred)],    \n",
    "    'R²'      : [r2_score(y_train, y_train_pred), r2_score(y_test, y_test_pred)],\n",
    "    'MAPE (%)': [mean_absolute_percentage_error(y_train, y_train_pred), mean_absolute_percentage_error(y_test, y_test_pred)]\n",
    "}, index=[\"entrenament\", \"test\"])\n",
    "\n",
    "# Mostrar-les\n",
    "display(metrics_df)"
   ]
  },
  {
   "cell_type": "code",
   "execution_count": 10,
   "id": "835bc95d",
   "metadata": {
    "execution": {
     "iopub.execute_input": "2024-06-17T10:01:51.823762Z",
     "iopub.status.busy": "2024-06-17T10:01:51.823204Z",
     "iopub.status.idle": "2024-06-17T10:01:52.224264Z",
     "shell.execute_reply": "2024-06-17T10:01:52.223395Z"
    },
    "papermill": {
     "duration": 0.447506,
     "end_time": "2024-06-17T10:01:52.226567",
     "exception": false,
     "start_time": "2024-06-17T10:01:51.779061",
     "status": "completed"
    },
    "tags": []
   },
   "outputs": [
    {
     "data": {
      "text/plain": [
       "<matplotlib.legend.Legend at 0x7ce266388340>"
      ]
     },
     "execution_count": 10,
     "metadata": {},
     "output_type": "execute_result"
    },
    {
     "data": {
      "image/png": "[encoded data removed]",
      "text/plain": [
       "<Figure size 640x480 with 1 Axes>"
      ]
     },
     "metadata": {},
     "output_type": "display_data"
    }
   ],
   "source": [
    "subset = metadata_test[(metadata_test[\"date_time\"].dt.day == 28) & (metadata_test[\"location\"] == \"SantMiquel\") & (metadata_test[\"sensor_id\"] == \"CO2_01\")]\n",
    "i = subset.index\n",
    "\n",
    "\n",
    "plt.plot(subset['date_time'],y_test[i], label='Real')\n",
    "plt.plot(subset['date_time'],y_test_pred[i], label='Predicció', linestyle='dashed')\n",
    "plt.title('Comparació Real vs Prediccio en un dia i un sensor')\n",
    "plt.xlabel('Temps')\n",
    "plt.ylabel('CO2 escalat')\n",
    "plt.xticks(rotation=45)\n",
    "plt.legend()"
   ]
  },
  {
   "cell_type": "markdown",
   "id": "28c4164d",
   "metadata": {
    "papermill": {
     "duration": 0.008536,
     "end_time": "2024-06-17T10:01:52.244090",
     "exception": false,
     "start_time": "2024-06-17T10:01:52.235554",
     "status": "completed"
    },
    "tags": []
   },
   "source": [
    "# LSTM Model"
   ]
  },
  {
   "cell_type": "markdown",
   "id": "ce88f403",
   "metadata": {
    "papermill": {
     "duration": 0.008438,
     "end_time": "2024-06-17T10:01:52.261120",
     "exception": false,
     "start_time": "2024-06-17T10:01:52.252682",
     "status": "completed"
    },
    "tags": []
   },
   "source": [
    "A continuació es mostra un exemple de model, amb l'intenció de poder mostra la seva estructura"
   ]
  },
  {
   "cell_type": "code",
   "execution_count": 11,
   "id": "81b8456a",
   "metadata": {
    "execution": {
     "iopub.execute_input": "2024-06-17T10:01:52.279877Z",
     "iopub.status.busy": "2024-06-17T10:01:52.279542Z",
     "iopub.status.idle": "2024-06-17T10:01:53.448954Z",
     "shell.execute_reply": "2024-06-17T10:01:53.447978Z"
    },
    "papermill": {
     "duration": 1.181278,
     "end_time": "2024-06-17T10:01:53.451098",
     "exception": false,
     "start_time": "2024-06-17T10:01:52.269820",
     "status": "completed"
    },
    "tags": []
   },
   "outputs": [
    {
     "data": {
      "text/html": [
       "<pre style=\"white-space:pre;overflow-x:auto;line-height:normal;font-family:Menlo,'DejaVu Sans Mono',consolas,'Courier New',monospace\"><span style=\"font-weight: bold\">Model: \"functional_1\"</span>\n",
       "</pre>\n"
      ],
      "text/plain": [
       "\u001b[1mModel: \"functional_1\"\u001b[0m\n"
      ]
     },
     "metadata": {},
     "output_type": "display_data"
    },
    {
     "data": {
      "text/html": [
       "<pre style=\"white-space:pre;overflow-x:auto;line-height:normal;font-family:Menlo,'DejaVu Sans Mono',consolas,'Courier New',monospace\">┏━━━━━━━━━━━━━━━━━━━━━┳━━━━━━━━━━━━━━━━━━━┳━━━━━━━━━━━━┳━━━━━━━━━━━━━━━━━━━┓\n",
       "┃<span style=\"font-weight: bold\"> Layer (type)        </span>┃<span style=\"font-weight: bold\"> Output Shape      </span>┃<span style=\"font-weight: bold\">    Param # </span>┃<span style=\"font-weight: bold\"> Connected to      </span>┃\n",
       "┡━━━━━━━━━━━━━━━━━━━━━╇━━━━━━━━━━━━━━━━━━━╇━━━━━━━━━━━━╇━━━━━━━━━━━━━━━━━━━┩\n",
       "│ input_layer         │ (<span style=\"color: #00d7ff; text-decoration-color: #00d7ff\">None</span>, <span style=\"color: #00af00; text-decoration-color: #00af00\">7</span>, <span style=\"color: #00af00; text-decoration-color: #00af00\">13</span>)     │          <span style=\"color: #00af00; text-decoration-color: #00af00\">0</span> │ -                 │\n",
       "│ (<span style=\"color: #0087ff; text-decoration-color: #0087ff\">InputLayer</span>)        │                   │            │                   │\n",
       "├─────────────────────┼───────────────────┼────────────┼───────────────────┤\n",
       "│ lambda_1 (<span style=\"color: #0087ff; text-decoration-color: #0087ff\">Lambda</span>)   │ (<span style=\"color: #00d7ff; text-decoration-color: #00d7ff\">None</span>, <span style=\"color: #00af00; text-decoration-color: #00af00\">6</span>, <span style=\"color: #00af00; text-decoration-color: #00af00\">13</span>)     │          <span style=\"color: #00af00; text-decoration-color: #00af00\">0</span> │ input_layer[<span style=\"color: #00af00; text-decoration-color: #00af00\">0</span>][<span style=\"color: #00af00; text-decoration-color: #00af00\">0</span>] │\n",
       "├─────────────────────┼───────────────────┼────────────┼───────────────────┤\n",
       "│ lambda (<span style=\"color: #0087ff; text-decoration-color: #0087ff\">Lambda</span>)     │ (<span style=\"color: #00d7ff; text-decoration-color: #00d7ff\">None</span>, <span style=\"color: #00af00; text-decoration-color: #00af00\">1</span>, <span style=\"color: #00af00; text-decoration-color: #00af00\">6</span>)      │          <span style=\"color: #00af00; text-decoration-color: #00af00\">0</span> │ input_layer[<span style=\"color: #00af00; text-decoration-color: #00af00\">0</span>][<span style=\"color: #00af00; text-decoration-color: #00af00\">0</span>] │\n",
       "├─────────────────────┼───────────────────┼────────────┼───────────────────┤\n",
       "│ lstm (<span style=\"color: #0087ff; text-decoration-color: #0087ff\">LSTM</span>)         │ (<span style=\"color: #00d7ff; text-decoration-color: #00d7ff\">None</span>, <span style=\"color: #00af00; text-decoration-color: #00af00\">12</span>)        │      <span style=\"color: #00af00; text-decoration-color: #00af00\">1,248</span> │ lambda_1[<span style=\"color: #00af00; text-decoration-color: #00af00\">0</span>][<span style=\"color: #00af00; text-decoration-color: #00af00\">0</span>]    │\n",
       "├─────────────────────┼───────────────────┼────────────┼───────────────────┤\n",
       "│ flatten (<span style=\"color: #0087ff; text-decoration-color: #0087ff\">Flatten</span>)   │ (<span style=\"color: #00d7ff; text-decoration-color: #00d7ff\">None</span>, <span style=\"color: #00af00; text-decoration-color: #00af00\">6</span>)         │          <span style=\"color: #00af00; text-decoration-color: #00af00\">0</span> │ lambda[<span style=\"color: #00af00; text-decoration-color: #00af00\">0</span>][<span style=\"color: #00af00; text-decoration-color: #00af00\">0</span>]      │\n",
       "├─────────────────────┼───────────────────┼────────────┼───────────────────┤\n",
       "│ concatenate         │ (<span style=\"color: #00d7ff; text-decoration-color: #00d7ff\">None</span>, <span style=\"color: #00af00; text-decoration-color: #00af00\">18</span>)        │          <span style=\"color: #00af00; text-decoration-color: #00af00\">0</span> │ lstm[<span style=\"color: #00af00; text-decoration-color: #00af00\">0</span>][<span style=\"color: #00af00; text-decoration-color: #00af00\">0</span>],       │\n",
       "│ (<span style=\"color: #0087ff; text-decoration-color: #0087ff\">Concatenate</span>)       │                   │            │ flatten[<span style=\"color: #00af00; text-decoration-color: #00af00\">0</span>][<span style=\"color: #00af00; text-decoration-color: #00af00\">0</span>]     │\n",
       "├─────────────────────┼───────────────────┼────────────┼───────────────────┤\n",
       "│ dense (<span style=\"color: #0087ff; text-decoration-color: #0087ff\">Dense</span>)       │ (<span style=\"color: #00d7ff; text-decoration-color: #00d7ff\">None</span>, <span style=\"color: #00af00; text-decoration-color: #00af00\">6</span>)         │        <span style=\"color: #00af00; text-decoration-color: #00af00\">114</span> │ concatenate[<span style=\"color: #00af00; text-decoration-color: #00af00\">0</span>][<span style=\"color: #00af00; text-decoration-color: #00af00\">0</span>] │\n",
       "├─────────────────────┼───────────────────┼────────────┼───────────────────┤\n",
       "│ dense_1 (<span style=\"color: #0087ff; text-decoration-color: #0087ff\">Dense</span>)     │ (<span style=\"color: #00d7ff; text-decoration-color: #00d7ff\">None</span>, <span style=\"color: #00af00; text-decoration-color: #00af00\">1</span>)         │          <span style=\"color: #00af00; text-decoration-color: #00af00\">7</span> │ dense[<span style=\"color: #00af00; text-decoration-color: #00af00\">0</span>][<span style=\"color: #00af00; text-decoration-color: #00af00\">0</span>]       │\n",
       "└─────────────────────┴───────────────────┴────────────┴───────────────────┘\n",
       "</pre>\n"
      ],
      "text/plain": [
       "┏━━━━━━━━━━━━━━━━━━━━━┳━━━━━━━━━━━━━━━━━━━┳━━━━━━━━━━━━┳━━━━━━━━━━━━━━━━━━━┓\n",
       "┃\u001b[1m \u001b[0m\u001b[1mLayer (type)       \u001b[0m\u001b[1m \u001b[0m┃\u001b[1m \u001b[0m\u001b[1mOutput Shape     \u001b[0m\u001b[1m \u001b[0m┃\u001b[1m \u001b[0m\u001b[1m   Param #\u001b[0m\u001b[1m \u001b[0m┃\u001b[1m \u001b[0m\u001b[1mConnected to     \u001b[0m\u001b[1m \u001b[0m┃\n",
       "┡━━━━━━━━━━━━━━━━━━━━━╇━━━━━━━━━━━━━━━━━━━╇━━━━━━━━━━━━╇━━━━━━━━━━━━━━━━━━━┩\n",
       "│ input_layer         │ (\u001b[38;5;45mNone\u001b[0m, \u001b[38;5;34m7\u001b[0m, \u001b[38;5;34m13\u001b[0m)     │          \u001b[38;5;34m0\u001b[0m │ -                 │\n",
       "│ (\u001b[38;5;33mInputLayer\u001b[0m)        │                   │            │                   │\n",
       "├─────────────────────┼───────────────────┼────────────┼───────────────────┤\n",
       "│ lambda_1 (\u001b[38;5;33mLambda\u001b[0m)   │ (\u001b[38;5;45mNone\u001b[0m, \u001b[38;5;34m6\u001b[0m, \u001b[38;5;34m13\u001b[0m)     │          \u001b[38;5;34m0\u001b[0m │ input_layer[\u001b[38;5;34m0\u001b[0m][\u001b[38;5;34m0\u001b[0m] │\n",
       "├─────────────────────┼───────────────────┼────────────┼───────────────────┤\n",
       "│ lambda (\u001b[38;5;33mLambda\u001b[0m)     │ (\u001b[38;5;45mNone\u001b[0m, \u001b[38;5;34m1\u001b[0m, \u001b[38;5;34m6\u001b[0m)      │          \u001b[38;5;34m0\u001b[0m │ input_layer[\u001b[38;5;34m0\u001b[0m][\u001b[38;5;34m0\u001b[0m] │\n",
       "├─────────────────────┼───────────────────┼────────────┼───────────────────┤\n",
       "│ lstm (\u001b[38;5;33mLSTM\u001b[0m)         │ (\u001b[38;5;45mNone\u001b[0m, \u001b[38;5;34m12\u001b[0m)        │      \u001b[38;5;34m1,248\u001b[0m │ lambda_1[\u001b[38;5;34m0\u001b[0m][\u001b[38;5;34m0\u001b[0m]    │\n",
       "├─────────────────────┼───────────────────┼────────────┼───────────────────┤\n",
       "│ flatten (\u001b[38;5;33mFlatten\u001b[0m)   │ (\u001b[38;5;45mNone\u001b[0m, \u001b[38;5;34m6\u001b[0m)         │          \u001b[38;5;34m0\u001b[0m │ lambda[\u001b[38;5;34m0\u001b[0m][\u001b[38;5;34m0\u001b[0m]      │\n",
       "├─────────────────────┼───────────────────┼────────────┼───────────────────┤\n",
       "│ concatenate         │ (\u001b[38;5;45mNone\u001b[0m, \u001b[38;5;34m18\u001b[0m)        │          \u001b[38;5;34m0\u001b[0m │ lstm[\u001b[38;5;34m0\u001b[0m][\u001b[38;5;34m0\u001b[0m],       │\n",
       "│ (\u001b[38;5;33mConcatenate\u001b[0m)       │                   │            │ flatten[\u001b[38;5;34m0\u001b[0m][\u001b[38;5;34m0\u001b[0m]     │\n",
       "├─────────────────────┼───────────────────┼────────────┼───────────────────┤\n",
       "│ dense (\u001b[38;5;33mDense\u001b[0m)       │ (\u001b[38;5;45mNone\u001b[0m, \u001b[38;5;34m6\u001b[0m)         │        \u001b[38;5;34m114\u001b[0m │ concatenate[\u001b[38;5;34m0\u001b[0m][\u001b[38;5;34m0\u001b[0m] │\n",
       "├─────────────────────┼───────────────────┼────────────┼───────────────────┤\n",
       "│ dense_1 (\u001b[38;5;33mDense\u001b[0m)     │ (\u001b[38;5;45mNone\u001b[0m, \u001b[38;5;34m1\u001b[0m)         │          \u001b[38;5;34m7\u001b[0m │ dense[\u001b[38;5;34m0\u001b[0m][\u001b[38;5;34m0\u001b[0m]       │\n",
       "└─────────────────────┴───────────────────┴────────────┴───────────────────┘\n"
      ]
     },
     "metadata": {},
     "output_type": "display_data"
    },
    {
     "data": {
      "text/html": [
       "<pre style=\"white-space:pre;overflow-x:auto;line-height:normal;font-family:Menlo,'DejaVu Sans Mono',consolas,'Courier New',monospace\"><span style=\"font-weight: bold\"> Total params: </span><span style=\"color: #00af00; text-decoration-color: #00af00\">1,369</span> (5.35 KB)\n",
       "</pre>\n"
      ],
      "text/plain": [
       "\u001b[1m Total params: \u001b[0m\u001b[38;5;34m1,369\u001b[0m (5.35 KB)\n"
      ]
     },
     "metadata": {},
     "output_type": "display_data"
    },
    {
     "data": {
      "text/html": [
       "<pre style=\"white-space:pre;overflow-x:auto;line-height:normal;font-family:Menlo,'DejaVu Sans Mono',consolas,'Courier New',monospace\"><span style=\"font-weight: bold\"> Trainable params: </span><span style=\"color: #00af00; text-decoration-color: #00af00\">1,369</span> (5.35 KB)\n",
       "</pre>\n"
      ],
      "text/plain": [
       "\u001b[1m Trainable params: \u001b[0m\u001b[38;5;34m1,369\u001b[0m (5.35 KB)\n"
      ]
     },
     "metadata": {},
     "output_type": "display_data"
    },
    {
     "data": {
      "text/html": [
       "<pre style=\"white-space:pre;overflow-x:auto;line-height:normal;font-family:Menlo,'DejaVu Sans Mono',consolas,'Courier New',monospace\"><span style=\"font-weight: bold\"> Non-trainable params: </span><span style=\"color: #00af00; text-decoration-color: #00af00\">0</span> (0.00 B)\n",
       "</pre>\n"
      ],
      "text/plain": [
       "\u001b[1m Non-trainable params: \u001b[0m\u001b[38;5;34m0\u001b[0m (0.00 B)\n"
      ]
     },
     "metadata": {},
     "output_type": "display_data"
    }
   ],
   "source": [
    "inpt = Input(shape=(7, 13))\n",
    "   \n",
    "static_input = Lambda(lambda x: x[:, -1:,:-7])(inpt)\n",
    "\n",
    "static_flatten = tf.keras.layers.Flatten()(static_input)\n",
    "\n",
    "dynamic_input = Lambda(lambda x: x[:, :-1])(inpt)\n",
    "\n",
    "dynamic_output = LSTM(12, \n",
    "                   return_sequences=False, \n",
    "                   dropout=0.1,\n",
    "                   recurrent_dropout=0.1)(dynamic_input)\n",
    "\n",
    "x = concatenate([dynamic_output, static_flatten])\n",
    "x = Dense(6, activation='relu')(x)\n",
    "output = Dense(1, activation='linear')(x)\n",
    "\n",
    "model = Model(inputs=[inpt], outputs=output)\n",
    "\n",
    "optimizer = Adam(learning_rate=0.01)\n",
    "model.compile(optimizer=optimizer, loss='mae')\n",
    "model.summary()"
   ]
  },
  {
   "cell_type": "code",
   "execution_count": 12,
   "id": "f1d4af54",
   "metadata": {
    "execution": {
     "iopub.execute_input": "2024-06-17T10:01:53.472318Z",
     "iopub.status.busy": "2024-06-17T10:01:53.471762Z",
     "iopub.status.idle": "2024-06-17T10:01:53.476241Z",
     "shell.execute_reply": "2024-06-17T10:01:53.475424Z"
    },
    "papermill": {
     "duration": 0.017197,
     "end_time": "2024-06-17T10:01:53.478077",
     "exception": false,
     "start_time": "2024-06-17T10:01:53.460880",
     "status": "completed"
    },
    "tags": []
   },
   "outputs": [],
   "source": [
    "param_grid = {\n",
    "\n",
    "    'model__lstm_units': [12, 24],\n",
    "\n",
    "    'model__dense_units': [6, 12],\n",
    "\n",
    "    'model__dropout_rate': [0.0, 0.1, 0.2],\n",
    "\n",
    "    'epochs': [100]\n",
    "\n",
    "}"
   ]
  },
  {
   "cell_type": "code",
   "execution_count": 13,
   "id": "4a76ad16",
   "metadata": {
    "execution": {
     "iopub.execute_input": "2024-06-17T10:01:53.498861Z",
     "iopub.status.busy": "2024-06-17T10:01:53.498182Z",
     "iopub.status.idle": "2024-06-17T10:01:53.505452Z",
     "shell.execute_reply": "2024-06-17T10:01:53.504593Z"
    },
    "papermill": {
     "duration": 0.019604,
     "end_time": "2024-06-17T10:01:53.507431",
     "exception": false,
     "start_time": "2024-06-17T10:01:53.487827",
     "status": "completed"
    },
    "tags": []
   },
   "outputs": [],
   "source": [
    "def definir_model(lstm_units, dense_units, dropout_rate):\n",
    "    inpt = Input(shape=(7, 13))\n",
    "   \n",
    "    static_input = Lambda(lambda x: x[:, -1:,:-7])(inpt)\n",
    "    \n",
    "    static_flatten = tf.keras.layers.Flatten()(static_input)\n",
    "    \n",
    "    dynamic_input = Lambda(lambda x: x[:, :-1])(inpt)\n",
    "    \n",
    "    dynamic_output = LSTM(lstm_units, \n",
    "                       return_sequences=False, \n",
    "                       dropout=dropout_rate)(dynamic_input)\n",
    "\n",
    "    x = concatenate([dynamic_output, static_flatten])\n",
    "    x = Dense(dense_units, activation='relu')(x)\n",
    "    output = Dense(1, activation='linear')(x)\n",
    "\n",
    "    model = Model(inputs=[inpt], outputs=output)\n",
    "    \n",
    "    optimizer = Adam(learning_rate=0.01)\n",
    "    model.compile(optimizer=optimizer, loss='mae')\n",
    "    return model"
   ]
  },
  {
   "cell_type": "code",
   "execution_count": 14,
   "id": "8ceaa3be",
   "metadata": {
    "execution": {
     "iopub.execute_input": "2024-06-17T10:01:53.528241Z",
     "iopub.status.busy": "2024-06-17T10:01:53.527686Z",
     "iopub.status.idle": "2024-06-17T10:01:53.532942Z",
     "shell.execute_reply": "2024-06-17T10:01:53.532044Z"
    },
    "papermill": {
     "duration": 0.017645,
     "end_time": "2024-06-17T10:01:53.534867",
     "exception": false,
     "start_time": "2024-06-17T10:01:53.517222",
     "status": "completed"
    },
    "tags": []
   },
   "outputs": [],
   "source": [
    "model_path = '/kaggle/working/model.weights.h5'\n",
    "\n",
    "# Definir els callbacks\n",
    "checkpoint = ModelCheckpoint(filepath=model_path, \n",
    "                             monitor='loss',\n",
    "                             save_weights_only=True,\n",
    "                             save_best_only=True)\n",
    "\n",
    "early_stopping = EarlyStopping(monitor='loss', \n",
    "                               patience=10, \n",
    "                               restore_best_weights=True)\n",
    "\n",
    "reduce_lr = ReduceLROnPlateau(monitor='loss', factor=0.5, patience=5, min_lr=0.00001)"
   ]
  },
  {
   "cell_type": "code",
   "execution_count": 15,
   "id": "8ff3a466",
   "metadata": {
    "execution": {
     "iopub.execute_input": "2024-06-17T10:01:53.555576Z",
     "iopub.status.busy": "2024-06-17T10:01:53.555036Z",
     "iopub.status.idle": "2024-06-17T17:28:39.041719Z",
     "shell.execute_reply": "2024-06-17T17:28:39.040791Z"
    },
    "papermill": {
     "duration": 26805.514861,
     "end_time": "2024-06-17T17:28:39.059543",
     "exception": false,
     "start_time": "2024-06-17T10:01:53.544682",
     "status": "completed"
    },
    "tags": []
   },
   "outputs": [
    {
     "name": "stdout",
     "output_type": "stream",
     "text": [
      "Starting GridSearchCV.fit...\n",
      "Fitting 5 folds for each of 12 candidates, totalling 60 fits\n",
      "[CV 1/5] END epochs=100, model__dense_units=6, model__dropout_rate=0.0, model__lstm_units=12;, score=-0.006 total time= 1.9min\n",
      "[CV 2/5] END epochs=100, model__dense_units=6, model__dropout_rate=0.0, model__lstm_units=12;, score=-0.006 total time= 3.8min\n",
      "[CV 3/5] END epochs=100, model__dense_units=6, model__dropout_rate=0.0, model__lstm_units=12;, score=-0.005 total time= 5.6min\n",
      "[CV 4/5] END epochs=100, model__dense_units=6, model__dropout_rate=0.0, model__lstm_units=12;, score=-0.005 total time= 5.9min\n",
      "[CV 5/5] END epochs=100, model__dense_units=6, model__dropout_rate=0.0, model__lstm_units=12;, score=-0.027 total time= 7.0min\n",
      "[CV 1/5] END epochs=100, model__dense_units=6, model__dropout_rate=0.0, model__lstm_units=24;, score=-0.005 total time= 1.9min\n",
      "[CV 2/5] END epochs=100, model__dense_units=6, model__dropout_rate=0.0, model__lstm_units=24;, score=-0.006 total time= 3.8min\n",
      "[CV 3/5] END epochs=100, model__dense_units=6, model__dropout_rate=0.0, model__lstm_units=24;, score=-0.005 total time= 5.7min\n",
      "[CV 4/5] END epochs=100, model__dense_units=6, model__dropout_rate=0.0, model__lstm_units=24;, score=-0.005 total time= 7.4min\n",
      "[CV 5/5] END epochs=100, model__dense_units=6, model__dropout_rate=0.0, model__lstm_units=24;, score=-0.027 total time= 6.2min\n",
      "[CV 1/5] END epochs=100, model__dense_units=6, model__dropout_rate=0.1, model__lstm_units=12;, score=-0.011 total time= 3.0min\n",
      "[CV 2/5] END epochs=100, model__dense_units=6, model__dropout_rate=0.1, model__lstm_units=12;, score=-0.012 total time= 4.9min\n",
      "[CV 3/5] END epochs=100, model__dense_units=6, model__dropout_rate=0.1, model__lstm_units=12;, score=-0.011 total time= 7.6min\n",
      "[CV 4/5] END epochs=100, model__dense_units=6, model__dropout_rate=0.1, model__lstm_units=12;, score=-0.010 total time=10.9min\n",
      "[CV 5/5] END epochs=100, model__dense_units=6, model__dropout_rate=0.1, model__lstm_units=12;, score=-0.011 total time=14.5min\n",
      "[CV 1/5] END epochs=100, model__dense_units=6, model__dropout_rate=0.1, model__lstm_units=24;, score=-0.010 total time= 4.1min\n",
      "[CV 2/5] END epochs=100, model__dense_units=6, model__dropout_rate=0.1, model__lstm_units=24;, score=-0.012 total time= 6.1min\n",
      "[CV 3/5] END epochs=100, model__dense_units=6, model__dropout_rate=0.1, model__lstm_units=24;, score=-0.010 total time= 5.5min\n",
      "[CV 4/5] END epochs=100, model__dense_units=6, model__dropout_rate=0.1, model__lstm_units=24;, score=-0.011 total time= 7.2min\n",
      "[CV 5/5] END epochs=100, model__dense_units=6, model__dropout_rate=0.1, model__lstm_units=24;, score=-0.011 total time=16.3min\n",
      "[CV 1/5] END epochs=100, model__dense_units=6, model__dropout_rate=0.2, model__lstm_units=12;, score=-0.028 total time= 3.3min\n",
      "[CV 2/5] END epochs=100, model__dense_units=6, model__dropout_rate=0.2, model__lstm_units=12;, score=-0.022 total time= 5.4min\n",
      "[CV 3/5] END epochs=100, model__dense_units=6, model__dropout_rate=0.2, model__lstm_units=12;, score=-0.017 total time= 5.2min\n",
      "[CV 4/5] END epochs=100, model__dense_units=6, model__dropout_rate=0.2, model__lstm_units=12;, score=-0.018 total time= 7.9min\n",
      "[CV 5/5] END epochs=100, model__dense_units=6, model__dropout_rate=0.2, model__lstm_units=12;, score=-0.021 total time=13.6min\n",
      "[CV 1/5] END epochs=100, model__dense_units=6, model__dropout_rate=0.2, model__lstm_units=24;, score=-0.028 total time= 3.5min\n",
      "[CV 2/5] END epochs=100, model__dense_units=6, model__dropout_rate=0.2, model__lstm_units=24;, score=-0.020 total time= 6.5min\n",
      "[CV 3/5] END epochs=100, model__dense_units=6, model__dropout_rate=0.2, model__lstm_units=24;, score=-0.019 total time= 8.9min\n",
      "[CV 4/5] END epochs=100, model__dense_units=6, model__dropout_rate=0.2, model__lstm_units=24;, score=-0.028 total time=10.2min\n",
      "[CV 5/5] END epochs=100, model__dense_units=6, model__dropout_rate=0.2, model__lstm_units=24;, score=-0.020 total time=14.1min\n",
      "[CV 1/5] END epochs=100, model__dense_units=12, model__dropout_rate=0.0, model__lstm_units=12;, score=-0.005 total time= 2.0min\n",
      "[CV 2/5] END epochs=100, model__dense_units=12, model__dropout_rate=0.0, model__lstm_units=12;, score=-0.006 total time= 3.8min\n",
      "[CV 3/5] END epochs=100, model__dense_units=12, model__dropout_rate=0.0, model__lstm_units=12;, score=-0.005 total time= 5.6min\n",
      "[CV 4/5] END epochs=100, model__dense_units=12, model__dropout_rate=0.0, model__lstm_units=12;, score=-0.005 total time= 6.5min\n",
      "[CV 5/5] END epochs=100, model__dense_units=12, model__dropout_rate=0.0, model__lstm_units=12;, score=-0.005 total time= 9.4min\n",
      "[CV 1/5] END epochs=100, model__dense_units=12, model__dropout_rate=0.0, model__lstm_units=24;, score=-0.007 total time= 2.0min\n",
      "[CV 2/5] END epochs=100, model__dense_units=12, model__dropout_rate=0.0, model__lstm_units=24;, score=-0.006 total time= 3.8min\n",
      "[CV 3/5] END epochs=100, model__dense_units=12, model__dropout_rate=0.0, model__lstm_units=24;, score=-0.005 total time= 5.6min\n",
      "[CV 4/5] END epochs=100, model__dense_units=12, model__dropout_rate=0.0, model__lstm_units=24;, score=-0.005 total time= 7.5min\n",
      "[CV 5/5] END epochs=100, model__dense_units=12, model__dropout_rate=0.0, model__lstm_units=24;, score=-0.005 total time= 9.5min\n",
      "[CV 1/5] END epochs=100, model__dense_units=12, model__dropout_rate=0.1, model__lstm_units=12;, score=-0.010 total time= 3.2min\n",
      "[CV 2/5] END epochs=100, model__dense_units=12, model__dropout_rate=0.1, model__lstm_units=12;, score=-0.012 total time= 4.5min\n",
      "[CV 3/5] END epochs=100, model__dense_units=12, model__dropout_rate=0.1, model__lstm_units=12;, score=-0.010 total time= 9.6min\n",
      "[CV 4/5] END epochs=100, model__dense_units=12, model__dropout_rate=0.1, model__lstm_units=12;, score=-0.010 total time=12.7min\n",
      "[CV 5/5] END epochs=100, model__dense_units=12, model__dropout_rate=0.1, model__lstm_units=12;, score=-0.011 total time=13.8min\n",
      "[CV 1/5] END epochs=100, model__dense_units=12, model__dropout_rate=0.1, model__lstm_units=24;, score=-0.010 total time= 3.7min\n",
      "[CV 2/5] END epochs=100, model__dense_units=12, model__dropout_rate=0.1, model__lstm_units=24;, score=-0.011 total time= 6.1min\n",
      "[CV 3/5] END epochs=100, model__dense_units=12, model__dropout_rate=0.1, model__lstm_units=24;, score=-0.011 total time= 8.3min\n",
      "[CV 4/5] END epochs=100, model__dense_units=12, model__dropout_rate=0.1, model__lstm_units=24;, score=-0.010 total time=13.4min\n",
      "[CV 5/5] END epochs=100, model__dense_units=12, model__dropout_rate=0.1, model__lstm_units=24;, score=-0.011 total time=16.6min\n",
      "[CV 1/5] END epochs=100, model__dense_units=12, model__dropout_rate=0.2, model__lstm_units=12;, score=-0.021 total time= 2.5min\n",
      "[CV 2/5] END epochs=100, model__dense_units=12, model__dropout_rate=0.2, model__lstm_units=12;, score=-0.021 total time= 5.5min\n",
      "[CV 3/5] END epochs=100, model__dense_units=12, model__dropout_rate=0.2, model__lstm_units=12;, score=-0.019 total time= 7.1min\n",
      "[CV 4/5] END epochs=100, model__dense_units=12, model__dropout_rate=0.2, model__lstm_units=12;, score=-0.019 total time=10.2min\n",
      "[CV 5/5] END epochs=100, model__dense_units=12, model__dropout_rate=0.2, model__lstm_units=12;, score=-0.020 total time=12.6min\n",
      "[CV 1/5] END epochs=100, model__dense_units=12, model__dropout_rate=0.2, model__lstm_units=24;, score=-0.021 total time= 3.1min\n",
      "[CV 2/5] END epochs=100, model__dense_units=12, model__dropout_rate=0.2, model__lstm_units=24;, score=-0.020 total time= 8.5min\n",
      "[CV 3/5] END epochs=100, model__dense_units=12, model__dropout_rate=0.2, model__lstm_units=24;, score=-0.020 total time= 8.7min\n",
      "[CV 4/5] END epochs=100, model__dense_units=12, model__dropout_rate=0.2, model__lstm_units=24;, score=-0.018 total time=11.9min\n",
      "[CV 5/5] END epochs=100, model__dense_units=12, model__dropout_rate=0.2, model__lstm_units=24;, score=-0.020 total time=12.4min\n"
     ]
    },
    {
     "data": {
      "text/html": [
       "<style>#sk-container-id-1 {\n",
       "  /* Definition of color scheme common for light and dark mode */\n",
       "  --sklearn-color-text: black;\n",
       "  --sklearn-color-line: gray;\n",
       "  /* Definition of color scheme for unfitted estimators */\n",
       "  --sklearn-color-unfitted-level-0: #fff5e6;\n",
       "  --sklearn-color-unfitted-level-1: #f6e4d2;\n",
       "  --sklearn-color-unfitted-level-2: #ffe0b3;\n",
       "  --sklearn-color-unfitted-level-3: chocolate;\n",
       "  /* Definition of color scheme for fitted estimators */\n",
       "  --sklearn-color-fitted-level-0: #f0f8ff;\n",
       "  --sklearn-color-fitted-level-1: #d4ebff;\n",
       "  --sklearn-color-fitted-level-2: #b3dbfd;\n",
       "  --sklearn-color-fitted-level-3: cornflowerblue;\n",
       "\n",
       "  /* Specific color for light theme */\n",
       "  --sklearn-color-text-on-default-background: var(--sg-text-color, var(--theme-code-foreground, var(--jp-content-font-color1, black)));\n",
       "  --sklearn-color-background: var(--sg-background-color, var(--theme-background, var(--jp-layout-color0, white)));\n",
       "  --sklearn-color-border-box: var(--sg-text-color, var(--theme-code-foreground, var(--jp-content-font-color1, black)));\n",
       "  --sklearn-color-icon: #696969;\n",
       "\n",
       "  @media (prefers-color-scheme: dark) {\n",
       "    /* Redefinition of color scheme for dark theme */\n",
       "    --sklearn-color-text-on-default-background: var(--sg-text-color, var(--theme-code-foreground, var(--jp-content-font-color1, white)));\n",
       "    --sklearn-color-background: var(--sg-background-color, var(--theme-background, var(--jp-layout-color0, #111)));\n",
       "    --sklearn-color-border-box: var(--sg-text-color, var(--theme-code-foreground, var(--jp-content-font-color1, white)));\n",
       "    --sklearn-color-icon: #878787;\n",
       "  }\n",
       "}\n",
       "\n",
       "#sk-container-id-1 {\n",
       "  color: var(--sklearn-color-text);\n",
       "}\n",
       "\n",
       "#sk-container-id-1 pre {\n",
       "  padding: 0;\n",
       "}\n",
       "\n",
       "#sk-container-id-1 input.sk-hidden--visually {\n",
       "  border: 0;\n",
       "  clip: rect(1px 1px 1px 1px);\n",
       "  clip: rect(1px, 1px, 1px, 1px);\n",
       "  height: 1px;\n",
       "  margin: -1px;\n",
       "  overflow: hidden;\n",
       "  padding: 0;\n",
       "  position: absolute;\n",
       "  width: 1px;\n",
       "}\n",
       "\n",
       "#sk-container-id-1 div.sk-dashed-wrapped {\n",
       "  border: 1px dashed var(--sklearn-color-line);\n",
       "  margin: 0 0.4em 0.5em 0.4em;\n",
       "  box-sizing: border-box;\n",
       "  padding-bottom: 0.4em;\n",
       "  background-color: var(--sklearn-color-background);\n",
       "}\n",
       "\n",
       "#sk-container-id-1 div.sk-container {\n",
       "  /* jupyter's `normalize.less` sets `[hidden] { display: none; }`\n",
       "     but bootstrap.min.css set `[hidden] { display: none !important; }`\n",
       "     so we also need the `!important` here to be able to override the\n",
       "     default hidden behavior on the sphinx rendered scikit-learn.org.\n",
       "     See: https://github.com/scikit-learn/scikit-learn/issues/21755 */\n",
       "  display: inline-block !important;\n",
       "  position: relative;\n",
       "}\n",
       "\n",
       "#sk-container-id-1 div.sk-text-repr-fallback {\n",
       "  display: none;\n",
       "}\n",
       "\n",
       "div.sk-parallel-item,\n",
       "div.sk-serial,\n",
       "div.sk-item {\n",
       "  /* draw centered vertical line to link estimators */\n",
       "  background-image: linear-gradient(var(--sklearn-color-text-on-default-background), var(--sklearn-color-text-on-default-background));\n",
       "  background-size: 2px 100%;\n",
       "  background-repeat: no-repeat;\n",
       "  background-position: center center;\n",
       "}\n",
       "\n",
       "/* Parallel-specific style estimator block */\n",
       "\n",
       "#sk-container-id-1 div.sk-parallel-item::after {\n",
       "  content: \"\";\n",
       "  width: 100%;\n",
       "  border-bottom: 2px solid var(--sklearn-color-text-on-default-background);\n",
       "  flex-grow: 1;\n",
       "}\n",
       "\n",
       "#sk-container-id-1 div.sk-parallel {\n",
       "  display: flex;\n",
       "  align-items: stretch;\n",
       "  justify-content: center;\n",
       "  background-color: var(--sklearn-color-background);\n",
       "  position: relative;\n",
       "}\n",
       "\n",
       "#sk-container-id-1 div.sk-parallel-item {\n",
       "  display: flex;\n",
       "  flex-direction: column;\n",
       "}\n",
       "\n",
       "#sk-container-id-1 div.sk-parallel-item:first-child::after {\n",
       "  align-self: flex-end;\n",
       "  width: 50%;\n",
       "}\n",
       "\n",
       "#sk-container-id-1 div.sk-parallel-item:last-child::after {\n",
       "  align-self: flex-start;\n",
       "  width: 50%;\n",
       "}\n",
       "\n",
       "#sk-container-id-1 div.sk-parallel-item:only-child::after {\n",
       "  width: 0;\n",
       "}\n",
       "\n",
       "/* Serial-specific style estimator block */\n",
       "\n",
       "#sk-container-id-1 div.sk-serial {\n",
       "  display: flex;\n",
       "  flex-direction: column;\n",
       "  align-items: center;\n",
       "  background-color: var(--sklearn-color-background);\n",
       "  padding-right: 1em;\n",
       "  padding-left: 1em;\n",
       "}\n",
       "\n",
       "\n",
       "/* Toggleable style: style used for estimator/Pipeline/ColumnTransformer box that is\n",
       "clickable and can be expanded/collapsed.\n",
       "- Pipeline and ColumnTransformer use this feature and define the default style\n",
       "- Estimators will overwrite some part of the style using the `sk-estimator` class\n",
       "*/\n",
       "\n",
       "/* Pipeline and ColumnTransformer style (default) */\n",
       "\n",
       "#sk-container-id-1 div.sk-toggleable {\n",
       "  /* Default theme specific background. It is overwritten whether we have a\n",
       "  specific estimator or a Pipeline/ColumnTransformer */\n",
       "  background-color: var(--sklearn-color-background);\n",
       "}\n",
       "\n",
       "/* Toggleable label */\n",
       "#sk-container-id-1 label.sk-toggleable__label {\n",
       "  cursor: pointer;\n",
       "  display: block;\n",
       "  width: 100%;\n",
       "  margin-bottom: 0;\n",
       "  padding: 0.5em;\n",
       "  box-sizing: border-box;\n",
       "  text-align: center;\n",
       "}\n",
       "\n",
       "#sk-container-id-1 label.sk-toggleable__label-arrow:before {\n",
       "  /* Arrow on the left of the label */\n",
       "  content: \"▸\";\n",
       "  float: left;\n",
       "  margin-right: 0.25em;\n",
       "  color: var(--sklearn-color-icon);\n",
       "}\n",
       "\n",
       "#sk-container-id-1 label.sk-toggleable__label-arrow:hover:before {\n",
       "  color: var(--sklearn-color-text);\n",
       "}\n",
       "\n",
       "/* Toggleable content - dropdown */\n",
       "\n",
       "#sk-container-id-1 div.sk-toggleable__content {\n",
       "  max-height: 0;\n",
       "  max-width: 0;\n",
       "  overflow: hidden;\n",
       "  text-align: left;\n",
       "  /* unfitted */\n",
       "  background-color: var(--sklearn-color-unfitted-level-0);\n",
       "}\n",
       "\n",
       "#sk-container-id-1 div.sk-toggleable__content.fitted {\n",
       "  /* fitted */\n",
       "  background-color: var(--sklearn-color-fitted-level-0);\n",
       "}\n",
       "\n",
       "#sk-container-id-1 div.sk-toggleable__content pre {\n",
       "  margin: 0.2em;\n",
       "  border-radius: 0.25em;\n",
       "  color: var(--sklearn-color-text);\n",
       "  /* unfitted */\n",
       "  background-color: var(--sklearn-color-unfitted-level-0);\n",
       "}\n",
       "\n",
       "#sk-container-id-1 div.sk-toggleable__content.fitted pre {\n",
       "  /* unfitted */\n",
       "  background-color: var(--sklearn-color-fitted-level-0);\n",
       "}\n",
       "\n",
       "#sk-container-id-1 input.sk-toggleable__control:checked~div.sk-toggleable__content {\n",
       "  /* Expand drop-down */\n",
       "  max-height: 200px;\n",
       "  max-width: 100%;\n",
       "  overflow: auto;\n",
       "}\n",
       "\n",
       "#sk-container-id-1 input.sk-toggleable__control:checked~label.sk-toggleable__label-arrow:before {\n",
       "  content: \"▾\";\n",
       "}\n",
       "\n",
       "/* Pipeline/ColumnTransformer-specific style */\n",
       "\n",
       "#sk-container-id-1 div.sk-label input.sk-toggleable__control:checked~label.sk-toggleable__label {\n",
       "  color: var(--sklearn-color-text);\n",
       "  background-color: var(--sklearn-color-unfitted-level-2);\n",
       "}\n",
       "\n",
       "#sk-container-id-1 div.sk-label.fitted input.sk-toggleable__control:checked~label.sk-toggleable__label {\n",
       "  background-color: var(--sklearn-color-fitted-level-2);\n",
       "}\n",
       "\n",
       "/* Estimator-specific style */\n",
       "\n",
       "/* Colorize estimator box */\n",
       "#sk-container-id-1 div.sk-estimator input.sk-toggleable__control:checked~label.sk-toggleable__label {\n",
       "  /* unfitted */\n",
       "  background-color: var(--sklearn-color-unfitted-level-2);\n",
       "}\n",
       "\n",
       "#sk-container-id-1 div.sk-estimator.fitted input.sk-toggleable__control:checked~label.sk-toggleable__label {\n",
       "  /* fitted */\n",
       "  background-color: var(--sklearn-color-fitted-level-2);\n",
       "}\n",
       "\n",
       "#sk-container-id-1 div.sk-label label.sk-toggleable__label,\n",
       "#sk-container-id-1 div.sk-label label {\n",
       "  /* The background is the default theme color */\n",
       "  color: var(--sklearn-color-text-on-default-background);\n",
       "}\n",
       "\n",
       "/* On hover, darken the color of the background */\n",
       "#sk-container-id-1 div.sk-label:hover label.sk-toggleable__label {\n",
       "  color: var(--sklearn-color-text);\n",
       "  background-color: var(--sklearn-color-unfitted-level-2);\n",
       "}\n",
       "\n",
       "/* Label box, darken color on hover, fitted */\n",
       "#sk-container-id-1 div.sk-label.fitted:hover label.sk-toggleable__label.fitted {\n",
       "  color: var(--sklearn-color-text);\n",
       "  background-color: var(--sklearn-color-fitted-level-2);\n",
       "}\n",
       "\n",
       "/* Estimator label */\n",
       "\n",
       "#sk-container-id-1 div.sk-label label {\n",
       "  font-family: monospace;\n",
       "  font-weight: bold;\n",
       "  display: inline-block;\n",
       "  line-height: 1.2em;\n",
       "}\n",
       "\n",
       "#sk-container-id-1 div.sk-label-container {\n",
       "  text-align: center;\n",
       "}\n",
       "\n",
       "/* Estimator-specific */\n",
       "#sk-container-id-1 div.sk-estimator {\n",
       "  font-family: monospace;\n",
       "  border: 1px dotted var(--sklearn-color-border-box);\n",
       "  border-radius: 0.25em;\n",
       "  box-sizing: border-box;\n",
       "  margin-bottom: 0.5em;\n",
       "  /* unfitted */\n",
       "  background-color: var(--sklearn-color-unfitted-level-0);\n",
       "}\n",
       "\n",
       "#sk-container-id-1 div.sk-estimator.fitted {\n",
       "  /* fitted */\n",
       "  background-color: var(--sklearn-color-fitted-level-0);\n",
       "}\n",
       "\n",
       "/* on hover */\n",
       "#sk-container-id-1 div.sk-estimator:hover {\n",
       "  /* unfitted */\n",
       "  background-color: var(--sklearn-color-unfitted-level-2);\n",
       "}\n",
       "\n",
       "#sk-container-id-1 div.sk-estimator.fitted:hover {\n",
       "  /* fitted */\n",
       "  background-color: var(--sklearn-color-fitted-level-2);\n",
       "}\n",
       "\n",
       "/* Specification for estimator info (e.g. \"i\" and \"?\") */\n",
       "\n",
       "/* Common style for \"i\" and \"?\" */\n",
       "\n",
       ".sk-estimator-doc-link,\n",
       "a:link.sk-estimator-doc-link,\n",
       "a:visited.sk-estimator-doc-link {\n",
       "  float: right;\n",
       "  font-size: smaller;\n",
       "  line-height: 1em;\n",
       "  font-family: monospace;\n",
       "  background-color: var(--sklearn-color-background);\n",
       "  border-radius: 1em;\n",
       "  height: 1em;\n",
       "  width: 1em;\n",
       "  text-decoration: none !important;\n",
       "  margin-left: 1ex;\n",
       "  /* unfitted */\n",
       "  border: var(--sklearn-color-unfitted-level-1) 1pt solid;\n",
       "  color: var(--sklearn-color-unfitted-level-1);\n",
       "}\n",
       "\n",
       ".sk-estimator-doc-link.fitted,\n",
       "a:link.sk-estimator-doc-link.fitted,\n",
       "a:visited.sk-estimator-doc-link.fitted {\n",
       "  /* fitted */\n",
       "  border: var(--sklearn-color-fitted-level-1) 1pt solid;\n",
       "  color: var(--sklearn-color-fitted-level-1);\n",
       "}\n",
       "\n",
       "/* On hover */\n",
       "div.sk-estimator:hover .sk-estimator-doc-link:hover,\n",
       ".sk-estimator-doc-link:hover,\n",
       "div.sk-label-container:hover .sk-estimator-doc-link:hover,\n",
       ".sk-estimator-doc-link:hover {\n",
       "  /* unfitted */\n",
       "  background-color: var(--sklearn-color-unfitted-level-3);\n",
       "  color: var(--sklearn-color-background);\n",
       "  text-decoration: none;\n",
       "}\n",
       "\n",
       "div.sk-estimator.fitted:hover .sk-estimator-doc-link.fitted:hover,\n",
       ".sk-estimator-doc-link.fitted:hover,\n",
       "div.sk-label-container:hover .sk-estimator-doc-link.fitted:hover,\n",
       ".sk-estimator-doc-link.fitted:hover {\n",
       "  /* fitted */\n",
       "  background-color: var(--sklearn-color-fitted-level-3);\n",
       "  color: var(--sklearn-color-background);\n",
       "  text-decoration: none;\n",
       "}\n",
       "\n",
       "/* Span, style for the box shown on hovering the info icon */\n",
       ".sk-estimator-doc-link span {\n",
       "  display: none;\n",
       "  z-index: 9999;\n",
       "  position: relative;\n",
       "  font-weight: normal;\n",
       "  right: .2ex;\n",
       "  padding: .5ex;\n",
       "  margin: .5ex;\n",
       "  width: min-content;\n",
       "  min-width: 20ex;\n",
       "  max-width: 50ex;\n",
       "  color: var(--sklearn-color-text);\n",
       "  box-shadow: 2pt 2pt 4pt #999;\n",
       "  /* unfitted */\n",
       "  background: var(--sklearn-color-unfitted-level-0);\n",
       "  border: .5pt solid var(--sklearn-color-unfitted-level-3);\n",
       "}\n",
       "\n",
       ".sk-estimator-doc-link.fitted span {\n",
       "  /* fitted */\n",
       "  background: var(--sklearn-color-fitted-level-0);\n",
       "  border: var(--sklearn-color-fitted-level-3);\n",
       "}\n",
       "\n",
       ".sk-estimator-doc-link:hover span {\n",
       "  display: block;\n",
       "}\n",
       "\n",
       "/* \"?\"-specific style due to the `<a>` HTML tag */\n",
       "\n",
       "#sk-container-id-1 a.estimator_doc_link {\n",
       "  float: right;\n",
       "  font-size: 1rem;\n",
       "  line-height: 1em;\n",
       "  font-family: monospace;\n",
       "  background-color: var(--sklearn-color-background);\n",
       "  border-radius: 1rem;\n",
       "  height: 1rem;\n",
       "  width: 1rem;\n",
       "  text-decoration: none;\n",
       "  /* unfitted */\n",
       "  color: var(--sklearn-color-unfitted-level-1);\n",
       "  border: var(--sklearn-color-unfitted-level-1) 1pt solid;\n",
       "}\n",
       "\n",
       "#sk-container-id-1 a.estimator_doc_link.fitted {\n",
       "  /* fitted */\n",
       "  border: var(--sklearn-color-fitted-level-1) 1pt solid;\n",
       "  color: var(--sklearn-color-fitted-level-1);\n",
       "}\n",
       "\n",
       "/* On hover */\n",
       "#sk-container-id-1 a.estimator_doc_link:hover {\n",
       "  /* unfitted */\n",
       "  background-color: var(--sklearn-color-unfitted-level-3);\n",
       "  color: var(--sklearn-color-background);\n",
       "  text-decoration: none;\n",
       "}\n",
       "\n",
       "#sk-container-id-1 a.estimator_doc_link.fitted:hover {\n",
       "  /* fitted */\n",
       "  background-color: var(--sklearn-color-fitted-level-3);\n",
       "}\n",
       "</style><div id=\"sk-container-id-1\" class=\"sk-top-container\"><div class=\"sk-text-repr-fallback\"><pre>GridSearchCV(cv=TimeSeriesSplit(gap=0, max_train_size=None, n_splits=5, test_size=None),\n",
       "             estimator=KerasRegressor(callbacks=[&lt;keras.src.callbacks.model_checkpoint.ModelCheckpoint object at 0x7ce2668627d0&gt;, &lt;keras.src.callbacks.reduce_lr_on_plateau.ReduceLROnPlateau object at 0x7ce2668639d0&gt;, &lt;keras.src.callbacks.early_stopping.EarlyStopping object at 0x7ce266863ac0&gt;], model=&lt;function definir_model at 0x7ce2663fc040&gt;, verbose=0),\n",
       "             param_grid={&#x27;epochs&#x27;: [100], &#x27;model__dense_units&#x27;: [6, 12],\n",
       "                         &#x27;model__dropout_rate&#x27;: [0.0, 0.1, 0.2],\n",
       "                         &#x27;model__lstm_units&#x27;: [12, 24]},\n",
       "             scoring=&#x27;neg_mean_absolute_error&#x27;, verbose=4)</pre><b>In a Jupyter environment, please rerun this cell to show the HTML representation or trust the notebook. <br />On GitHub, the HTML representation is unable to render, please try loading this page with nbviewer.org.</b></div><div class=\"sk-container\" hidden><div class=\"sk-item sk-dashed-wrapped\"><div class=\"sk-label-container\"><div class=\"sk-label fitted sk-toggleable\"><input class=\"sk-toggleable__control sk-hidden--visually\" id=\"sk-estimator-id-1\" type=\"checkbox\" ><label for=\"sk-estimator-id-1\" class=\"sk-toggleable__label fitted sk-toggleable__label-arrow fitted\">&nbsp;&nbsp;GridSearchCV<a class=\"sk-estimator-doc-link fitted\" rel=\"noreferrer\" target=\"_blank\" href=\"https://scikit-learn.org/1.5/modules/generated/sklearn.model_selection.GridSearchCV.html\">?<span>Documentation for GridSearchCV</span></a><span class=\"sk-estimator-doc-link fitted\">i<span>Fitted</span></span></label><div class=\"sk-toggleable__content fitted\"><pre>GridSearchCV(cv=TimeSeriesSplit(gap=0, max_train_size=None, n_splits=5, test_size=None),\n",
       "             estimator=KerasRegressor(callbacks=[&lt;keras.src.callbacks.model_checkpoint.ModelCheckpoint object at 0x7ce2668627d0&gt;, &lt;keras.src.callbacks.reduce_lr_on_plateau.ReduceLROnPlateau object at 0x7ce2668639d0&gt;, &lt;keras.src.callbacks.early_stopping.EarlyStopping object at 0x7ce266863ac0&gt;], model=&lt;function definir_model at 0x7ce2663fc040&gt;, verbose=0),\n",
       "             param_grid={&#x27;epochs&#x27;: [100], &#x27;model__dense_units&#x27;: [6, 12],\n",
       "                         &#x27;model__dropout_rate&#x27;: [0.0, 0.1, 0.2],\n",
       "                         &#x27;model__lstm_units&#x27;: [12, 24]},\n",
       "             scoring=&#x27;neg_mean_absolute_error&#x27;, verbose=4)</pre></div> </div></div><div class=\"sk-parallel\"><div class=\"sk-parallel-item\"><div class=\"sk-item\"><div class=\"sk-label-container\"><div class=\"sk-label fitted sk-toggleable\"><input class=\"sk-toggleable__control sk-hidden--visually\" id=\"sk-estimator-id-2\" type=\"checkbox\" ><label for=\"sk-estimator-id-2\" class=\"sk-toggleable__label fitted sk-toggleable__label-arrow fitted\">best_estimator_: KerasRegressor</label><div class=\"sk-toggleable__content fitted\"><pre>KerasRegressor(\n",
       "\tmodel=&lt;function definir_model at 0x7ce2663fc040&gt;\n",
       "\tbuild_fn=None\n",
       "\twarm_start=False\n",
       "\trandom_state=None\n",
       "\toptimizer=rmsprop\n",
       "\tloss=None\n",
       "\tmetrics=None\n",
       "\tbatch_size=None\n",
       "\tvalidation_batch_size=None\n",
       "\tverbose=0\n",
       "\tcallbacks=[&lt;keras.src.callbacks.model_checkpoint.ModelCheckpoint object at 0x7ce269f13cd0&gt;, &lt;keras.src.callbacks.reduce_lr_on_plateau.ReduceLROnPlateau object at 0x7ce269f12140&gt;, &lt;keras.src.callbacks.early_stopping.EarlyStopping object at 0x7ce1cab914e0&gt;]\n",
       "\tvalidation_split=0.0\n",
       "\tshuffle=True\n",
       "\trun_eagerly=False\n",
       "\tepochs=100\n",
       "\tmodel__dense_units=12\n",
       "\tmodel__dropout_rate=0.0\n",
       "\tmodel__lstm_units=12\n",
       ")</pre></div> </div></div><div class=\"sk-serial\"><div class=\"sk-item\"><div class=\"sk-estimator fitted sk-toggleable\"><input class=\"sk-toggleable__control sk-hidden--visually\" id=\"sk-estimator-id-3\" type=\"checkbox\" ><label for=\"sk-estimator-id-3\" class=\"sk-toggleable__label fitted sk-toggleable__label-arrow fitted\">KerasRegressor</label><div class=\"sk-toggleable__content fitted\"><pre>KerasRegressor(\n",
       "\tmodel=&lt;function definir_model at 0x7ce2663fc040&gt;\n",
       "\tbuild_fn=None\n",
       "\twarm_start=False\n",
       "\trandom_state=None\n",
       "\toptimizer=rmsprop\n",
       "\tloss=None\n",
       "\tmetrics=None\n",
       "\tbatch_size=None\n",
       "\tvalidation_batch_size=None\n",
       "\tverbose=0\n",
       "\tcallbacks=[&lt;keras.src.callbacks.model_checkpoint.ModelCheckpoint object at 0x7ce269f13cd0&gt;, &lt;keras.src.callbacks.reduce_lr_on_plateau.ReduceLROnPlateau object at 0x7ce269f12140&gt;, &lt;keras.src.callbacks.early_stopping.EarlyStopping object at 0x7ce1cab914e0&gt;]\n",
       "\tvalidation_split=0.0\n",
       "\tshuffle=True\n",
       "\trun_eagerly=False\n",
       "\tepochs=100\n",
       "\tmodel__dense_units=12\n",
       "\tmodel__dropout_rate=0.0\n",
       "\tmodel__lstm_units=12\n",
       ")</pre></div> </div></div></div></div></div></div></div></div></div>"
      ],
      "text/plain": [
       "GridSearchCV(cv=TimeSeriesSplit(gap=0, max_train_size=None, n_splits=5, test_size=None),\n",
       "             estimator=KerasRegressor(callbacks=[<keras.src.callbacks.model_checkpoint.ModelCheckpoint object at 0x7ce2668627d0>, <keras.src.callbacks.reduce_lr_on_plateau.ReduceLROnPlateau object at 0x7ce2668639d0>, <keras.src.callbacks.early_stopping.EarlyStopping object at 0x7ce266863ac0>], model=<function definir_model at 0x7ce2663fc040>, verbose=0),\n",
       "             param_grid={'epochs': [100], 'model__dense_units': [6, 12],\n",
       "                         'model__dropout_rate': [0.0, 0.1, 0.2],\n",
       "                         'model__lstm_units': [12, 24]},\n",
       "             scoring='neg_mean_absolute_error', verbose=4)"
      ]
     },
     "execution_count": 15,
     "metadata": {},
     "output_type": "execute_result"
    }
   ],
   "source": [
    "regressor = KerasRegressor(definir_model,verbose=0,callbacks=[checkpoint,reduce_lr,early_stopping])\n",
    "\n",
    "tscv = TimeSeriesSplit(n_splits=5)\n",
    "\n",
    "grid = GridSearchCV(estimator=regressor, verbose=4, param_grid=param_grid, cv=tscv,scoring='neg_mean_absolute_error')\n",
    "\n",
    "print(\"Starting GridSearchCV.fit...\")\n",
    "grid.fit(X_train, y_train)"
   ]
  },
  {
   "cell_type": "code",
   "execution_count": 16,
   "id": "04fb1a44",
   "metadata": {
    "execution": {
     "iopub.execute_input": "2024-06-17T17:28:39.092356Z",
     "iopub.status.busy": "2024-06-17T17:28:39.092023Z",
     "iopub.status.idle": "2024-06-17T17:28:39.124828Z",
     "shell.execute_reply": "2024-06-17T17:28:39.123857Z"
    },
    "papermill": {
     "duration": 0.050873,
     "end_time": "2024-06-17T17:28:39.126725",
     "exception": false,
     "start_time": "2024-06-17T17:28:39.075852",
     "status": "completed"
    },
    "tags": []
   },
   "outputs": [
    {
     "name": "stdout",
     "output_type": "stream",
     "text": [
      "Millors parametres:\n",
      "{'epochs': 100, 'model__dense_units': 12, 'model__dropout_rate': 0.0, 'model__lstm_units': 12}\n",
      "\n",
      "Millor score:\n",
      "-0.005094920245565763\n",
      "\n",
      "Millor estimador:\n",
      "KerasRegressor(\n",
      "\tmodel=<function definir_model at 0x7ce2663fc040>\n",
      "\tbuild_fn=None\n",
      "\twarm_start=False\n",
      "\trandom_state=None\n",
      "\toptimizer=rmsprop\n",
      "\tloss=None\n",
      "\tmetrics=None\n",
      "\tbatch_size=None\n",
      "\tvalidation_batch_size=None\n",
      "\tverbose=0\n",
      "\tcallbacks=[<keras.src.callbacks.model_checkpoint.ModelCheckpoint object at 0x7ce269f13cd0>, <keras.src.callbacks.reduce_lr_on_plateau.ReduceLROnPlateau object at 0x7ce269f12140>, <keras.src.callbacks.early_stopping.EarlyStopping object at 0x7ce1cab914e0>]\n",
      "\tvalidation_split=0.0\n",
      "\tshuffle=True\n",
      "\trun_eagerly=False\n",
      "\tepochs=100\n",
      "\tmodel__dense_units=12\n",
      "\tmodel__dropout_rate=0.0\n",
      "\tmodel__lstm_units=12\n",
      ")\n",
      "\n",
      "Resultats detallats GridSearch:\n"
     ]
    },
    {
     "data": {
      "text/html": [
       "<div>\n",
       "<style scoped>\n",
       "    .dataframe tbody tr th:only-of-type {\n",
       "        vertical-align: middle;\n",
       "    }\n",
       "\n",
       "    .dataframe tbody tr th {\n",
       "        vertical-align: top;\n",
       "    }\n",
       "\n",
       "    .dataframe thead th {\n",
       "        text-align: right;\n",
       "    }\n",
       "</style>\n",
       "<table border=\"1\" class=\"dataframe\">\n",
       "  <thead>\n",
       "    <tr style=\"text-align: right;\">\n",
       "      <th></th>\n",
       "      <th>mean_fit_time</th>\n",
       "      <th>std_fit_time</th>\n",
       "      <th>mean_score_time</th>\n",
       "      <th>std_score_time</th>\n",
       "      <th>param_epochs</th>\n",
       "      <th>param_model__dense_units</th>\n",
       "      <th>param_model__dropout_rate</th>\n",
       "      <th>param_model__lstm_units</th>\n",
       "      <th>params</th>\n",
       "      <th>split0_test_score</th>\n",
       "      <th>split1_test_score</th>\n",
       "      <th>split2_test_score</th>\n",
       "      <th>split3_test_score</th>\n",
       "      <th>split4_test_score</th>\n",
       "      <th>mean_test_score</th>\n",
       "      <th>std_test_score</th>\n",
       "      <th>rank_test_score</th>\n",
       "    </tr>\n",
       "  </thead>\n",
       "  <tbody>\n",
       "    <tr>\n",
       "      <th>5</th>\n",
       "      <td>516.077914</td>\n",
       "      <td>213.454605</td>\n",
       "      <td>1.664939</td>\n",
       "      <td>0.042430</td>\n",
       "      <td>100</td>\n",
       "      <td>6</td>\n",
       "      <td>0.2</td>\n",
       "      <td>24</td>\n",
       "      <td>{'epochs': 100, 'model__dense_units': 6, 'mode...</td>\n",
       "      <td>-0.028140</td>\n",
       "      <td>-0.019971</td>\n",
       "      <td>-0.019455</td>\n",
       "      <td>-0.027834</td>\n",
       "      <td>-0.020334</td>\n",
       "      <td>-0.023147</td>\n",
       "      <td>0.003963</td>\n",
       "      <td>12</td>\n",
       "    </tr>\n",
       "    <tr>\n",
       "      <th>4</th>\n",
       "      <td>422.705067</td>\n",
       "      <td>214.650956</td>\n",
       "      <td>1.877280</td>\n",
       "      <td>0.367582</td>\n",
       "      <td>100</td>\n",
       "      <td>6</td>\n",
       "      <td>0.2</td>\n",
       "      <td>12</td>\n",
       "      <td>{'epochs': 100, 'model__dense_units': 6, 'mode...</td>\n",
       "      <td>-0.028151</td>\n",
       "      <td>-0.021795</td>\n",
       "      <td>-0.016982</td>\n",
       "      <td>-0.018451</td>\n",
       "      <td>-0.020997</td>\n",
       "      <td>-0.021275</td>\n",
       "      <td>0.003848</td>\n",
       "      <td>11</td>\n",
       "    </tr>\n",
       "    <tr>\n",
       "      <th>10</th>\n",
       "      <td>453.443786</td>\n",
       "      <td>212.485936</td>\n",
       "      <td>1.646285</td>\n",
       "      <td>0.031304</td>\n",
       "      <td>100</td>\n",
       "      <td>12</td>\n",
       "      <td>0.2</td>\n",
       "      <td>12</td>\n",
       "      <td>{'epochs': 100, 'model__dense_units': 12, 'mod...</td>\n",
       "      <td>-0.020805</td>\n",
       "      <td>-0.021162</td>\n",
       "      <td>-0.019493</td>\n",
       "      <td>-0.018682</td>\n",
       "      <td>-0.019830</td>\n",
       "      <td>-0.019994</td>\n",
       "      <td>0.000897</td>\n",
       "      <td>10</td>\n",
       "    </tr>\n",
       "    <tr>\n",
       "      <th>11</th>\n",
       "      <td>534.007388</td>\n",
       "      <td>198.732426</td>\n",
       "      <td>1.706265</td>\n",
       "      <td>0.037424</td>\n",
       "      <td>100</td>\n",
       "      <td>12</td>\n",
       "      <td>0.2</td>\n",
       "      <td>24</td>\n",
       "      <td>{'epochs': 100, 'model__dense_units': 12, 'mod...</td>\n",
       "      <td>-0.020977</td>\n",
       "      <td>-0.020312</td>\n",
       "      <td>-0.019946</td>\n",
       "      <td>-0.018259</td>\n",
       "      <td>-0.019651</td>\n",
       "      <td>-0.019829</td>\n",
       "      <td>0.000901</td>\n",
       "      <td>9</td>\n",
       "    </tr>\n",
       "    <tr>\n",
       "      <th>2</th>\n",
       "      <td>489.513333</td>\n",
       "      <td>248.419355</td>\n",
       "      <td>1.635927</td>\n",
       "      <td>0.044121</td>\n",
       "      <td>100</td>\n",
       "      <td>6</td>\n",
       "      <td>0.1</td>\n",
       "      <td>12</td>\n",
       "      <td>{'epochs': 100, 'model__dense_units': 6, 'mode...</td>\n",
       "      <td>-0.010525</td>\n",
       "      <td>-0.011595</td>\n",
       "      <td>-0.011223</td>\n",
       "      <td>-0.010344</td>\n",
       "      <td>-0.010919</td>\n",
       "      <td>-0.010921</td>\n",
       "      <td>0.000455</td>\n",
       "      <td>8</td>\n",
       "    </tr>\n",
       "  </tbody>\n",
       "</table>\n",
       "</div>"
      ],
      "text/plain": [
       "    mean_fit_time  std_fit_time  mean_score_time  std_score_time  \\\n",
       "5      516.077914    213.454605         1.664939        0.042430   \n",
       "4      422.705067    214.650956         1.877280        0.367582   \n",
       "10     453.443786    212.485936         1.646285        0.031304   \n",
       "11     534.007388    198.732426         1.706265        0.037424   \n",
       "2      489.513333    248.419355         1.635927        0.044121   \n",
       "\n",
       "    param_epochs  param_model__dense_units  param_model__dropout_rate  \\\n",
       "5            100                         6                        0.2   \n",
       "4            100                         6                        0.2   \n",
       "10           100                        12                        0.2   \n",
       "11           100                        12                        0.2   \n",
       "2            100                         6                        0.1   \n",
       "\n",
       "    param_model__lstm_units  \\\n",
       "5                        24   \n",
       "4                        12   \n",
       "10                       12   \n",
       "11                       24   \n",
       "2                        12   \n",
       "\n",
       "                                               params  split0_test_score  \\\n",
       "5   {'epochs': 100, 'model__dense_units': 6, 'mode...          -0.028140   \n",
       "4   {'epochs': 100, 'model__dense_units': 6, 'mode...          -0.028151   \n",
       "10  {'epochs': 100, 'model__dense_units': 12, 'mod...          -0.020805   \n",
       "11  {'epochs': 100, 'model__dense_units': 12, 'mod...          -0.020977   \n",
       "2   {'epochs': 100, 'model__dense_units': 6, 'mode...          -0.010525   \n",
       "\n",
       "    split1_test_score  split2_test_score  split3_test_score  \\\n",
       "5           -0.019971          -0.019455          -0.027834   \n",
       "4           -0.021795          -0.016982          -0.018451   \n",
       "10          -0.021162          -0.019493          -0.018682   \n",
       "11          -0.020312          -0.019946          -0.018259   \n",
       "2           -0.011595          -0.011223          -0.010344   \n",
       "\n",
       "    split4_test_score  mean_test_score  std_test_score  rank_test_score  \n",
       "5           -0.020334        -0.023147        0.003963               12  \n",
       "4           -0.020997        -0.021275        0.003848               11  \n",
       "10          -0.019830        -0.019994        0.000897               10  \n",
       "11          -0.019651        -0.019829        0.000901                9  \n",
       "2           -0.010919        -0.010921        0.000455                8  "
      ]
     },
     "metadata": {},
     "output_type": "display_data"
    },
    {
     "name": "stdout",
     "output_type": "stream",
     "text": [
      "\n",
      "Duració:\n",
      "544.230 segons\n"
     ]
    }
   ],
   "source": [
    "# Resultats\n",
    "print(\"Millors parametres:\")\n",
    "print(grid.best_params_)\n",
    "\n",
    "print(\"\\nMillor score:\")\n",
    "print(grid.best_score_)\n",
    "\n",
    "print(\"\\nMillor estimador:\")\n",
    "print(grid.best_estimator_)\n",
    "\n",
    "print(\"\\nResultats detallats GridSearch:\")\n",
    "resultats = pd.DataFrame(grid.cv_results_)\n",
    "display(resultats.sort_values(by='mean_test_score').head())\n",
    "resultats.to_csv('resultatsGridSearch.csv', index=False)\n",
    "\n",
    "print(\"\\nDuració:\")\n",
    "print(f\"{grid.refit_time_:.3f} segons\")"
   ]
  },
  {
   "cell_type": "code",
   "execution_count": 17,
   "id": "c5969867",
   "metadata": {
    "execution": {
     "iopub.execute_input": "2024-06-17T17:28:39.160051Z",
     "iopub.status.busy": "2024-06-17T17:28:39.159303Z",
     "iopub.status.idle": "2024-06-17T17:28:44.071043Z",
     "shell.execute_reply": "2024-06-17T17:28:44.070026Z"
    },
    "papermill": {
     "duration": 4.930588,
     "end_time": "2024-06-17T17:28:44.073254",
     "exception": false,
     "start_time": "2024-06-17T17:28:39.142666",
     "status": "completed"
    },
    "tags": []
   },
   "outputs": [
    {
     "data": {
      "text/html": [
       "<div>\n",
       "<style scoped>\n",
       "    .dataframe tbody tr th:only-of-type {\n",
       "        vertical-align: middle;\n",
       "    }\n",
       "\n",
       "    .dataframe tbody tr th {\n",
       "        vertical-align: top;\n",
       "    }\n",
       "\n",
       "    .dataframe thead th {\n",
       "        text-align: right;\n",
       "    }\n",
       "</style>\n",
       "<table border=\"1\" class=\"dataframe\">\n",
       "  <thead>\n",
       "    <tr style=\"text-align: right;\">\n",
       "      <th></th>\n",
       "      <th>MAE</th>\n",
       "      <th>MSE</th>\n",
       "      <th>R²</th>\n",
       "      <th>MAPE (%)</th>\n",
       "    </tr>\n",
       "  </thead>\n",
       "  <tbody>\n",
       "    <tr>\n",
       "      <th>entrenament</th>\n",
       "      <td>0.004830</td>\n",
       "      <td>0.000175</td>\n",
       "      <td>0.962003</td>\n",
       "      <td>0.038659</td>\n",
       "    </tr>\n",
       "    <tr>\n",
       "      <th>test</th>\n",
       "      <td>0.004167</td>\n",
       "      <td>0.000128</td>\n",
       "      <td>0.914092</td>\n",
       "      <td>0.037447</td>\n",
       "    </tr>\n",
       "  </tbody>\n",
       "</table>\n",
       "</div>"
      ],
      "text/plain": [
       "                  MAE       MSE        R²  MAPE (%)\n",
       "entrenament  0.004830  0.000175  0.962003  0.038659\n",
       "test         0.004167  0.000128  0.914092  0.037447"
      ]
     },
     "metadata": {},
     "output_type": "display_data"
    }
   ],
   "source": [
    "model = grid\n",
    "\n",
    "y_train_pred = model.predict(X_train)\n",
    "y_test_pred = model.predict(X_test)\n",
    "\n",
    "# Calcular metriques\n",
    "metrics_df = pd.DataFrame(data={\n",
    "    'MAE'     : [mean_absolute_error(y_train, y_train_pred), mean_absolute_error(y_test, y_test_pred)],\n",
    "    'MSE'     : [mean_squared_error(y_train, y_train_pred), mean_squared_error(y_test, y_test_pred)],    \n",
    "    'R²'      : [r2_score(y_train, y_train_pred), r2_score(y_test, y_test_pred)],\n",
    "    'MAPE (%)': [mean_absolute_percentage_error(y_train, y_train_pred), mean_absolute_percentage_error(y_test, y_test_pred)]\n",
    "}, index=[\"entrenament\", \"test\"])\n",
    "\n",
    "# Mostrar-les\n",
    "display(metrics_df)"
   ]
  },
  {
   "cell_type": "code",
   "execution_count": 18,
   "id": "82ce7aa5",
   "metadata": {
    "execution": {
     "iopub.execute_input": "2024-06-17T17:28:44.108483Z",
     "iopub.status.busy": "2024-06-17T17:28:44.108173Z",
     "iopub.status.idle": "2024-06-17T17:28:44.470867Z",
     "shell.execute_reply": "2024-06-17T17:28:44.469930Z"
    },
    "papermill": {
     "duration": 0.382052,
     "end_time": "2024-06-17T17:28:44.473003",
     "exception": false,
     "start_time": "2024-06-17T17:28:44.090951",
     "status": "completed"
    },
    "tags": []
   },
   "outputs": [
    {
     "data": {
      "text/plain": [
       "<matplotlib.legend.Legend at 0x7ce266862c50>"
      ]
     },
     "execution_count": 18,
     "metadata": {},
     "output_type": "execute_result"
    },
    {
     "data": {
      "image/png": "[encoded data removed]",
      "text/plain": [
       "<Figure size 640x480 with 1 Axes>"
      ]
     },
     "metadata": {},
     "output_type": "display_data"
    }
   ],
   "source": [
    "subset = metadata_test[(metadata_test[\"date_time\"].dt.day == 28) & (metadata_test[\"location\"] == \"SantMiquel\") & (metadata_test[\"sensor_id\"] == \"CO2_01\")]\n",
    "i = subset.index\n",
    "\n",
    "\n",
    "plt.plot(subset['date_time'],y_test[i], label='Real')\n",
    "plt.plot(subset['date_time'],y_test_pred[i], label='Predicció', linestyle='dashed')\n",
    "plt.title('Comparació Real vs Prediccio en un dia i un sensor')\n",
    "plt.xlabel('Temps')\n",
    "plt.ylabel('CO2_escaled')\n",
    "plt.xticks(rotation=45)\n",
    "plt.legend()"
   ]
  }
 ],
 "metadata": {
  "kaggle": {
   "accelerator": "gpu",
   "dataSources": [
    {
     "datasetId": 5225549,
     "sourceId": 8710842,
     "sourceType": "datasetVersion"
    }
   ],
   "dockerImageVersionId": 30733,
   "isGpuEnabled": true,
   "isInternetEnabled": true,
   "language": "python",
   "sourceType": "notebook"
  },
  "kernelspec": {
   "display_name": "Python 3 (ipykernel)",
   "language": "python",
   "name": "python3"
  },
  "language_info": {
   "codemirror_mode": {
    "name": "ipython",
    "version": 3
   },
   "file_extension": ".py",
   "mimetype": "text/x-python",
   "name": "python",
   "nbconvert_exporter": "python",
   "pygments_lexer": "ipython3",
   "version": "3.11.5"
  },
  "papermill": {
   "default_parameters": {},
   "duration": 26850.582517,
   "end_time": "2024-06-17T17:28:47.261188",
   "environment_variables": {},
   "exception": null,
   "input_path": "__notebook__.ipynb",
   "output_path": "__notebook__.ipynb",
   "parameters": {},
   "start_time": "2024-06-17T10:01:16.678671",
   "version": "2.5.0"
  }
 },
 "nbformat": 4,
 "nbformat_minor": 5
}
